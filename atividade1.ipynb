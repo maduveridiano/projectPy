{
 "cells": [
  {
   "cell_type": "code",
   "execution_count": 1,
   "id": "90265a32-9566-4774-b6d1-d3297fe713b6",
   "metadata": {},
   "outputs": [
    {
     "data": {
      "text/plain": [
       "7.55"
      ]
     },
     "execution_count": 1,
     "metadata": {},
     "output_type": "execute_result"
    }
   ],
   "source": [
    "#primeira questão\n",
    "(5 * (10 - 4)**2) / (3**3 + 2) - 1\n",
    "\n",
    "#segunda questão\n",
    "((8 - 2)**2 + (11 - 3)**2)**0.5\n",
    "\n",
    "#terceira questão\n",
    "(7.0 * 3 + 8.5 * 5 + 6.0 * 2) / (3 + 5 + 2)\n"
   ]
  },
  {
   "cell_type": "code",
   "execution_count": null,
   "id": "844bcbac-ea9e-4821-bb43-8848317673a9",
   "metadata": {},
   "outputs": [],
   "source": []
  }
 ],
 "metadata": {
  "kernelspec": {
   "display_name": "Python 3 (ipykernel)",
   "language": "python",
   "name": "python3"
  },
  "language_info": {
   "codemirror_mode": {
    "name": "ipython",
    "version": 3
   },
   "file_extension": ".py",
   "mimetype": "text/x-python",
   "name": "python",
   "nbconvert_exporter": "python",
   "pygments_lexer": "ipython3",
   "version": "3.13.5"
  }
 },
 "nbformat": 4,
 "nbformat_minor": 5
}
